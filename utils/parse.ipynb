{
 "cells": [
  {
   "cell_type": "code",
   "execution_count": 116,
   "metadata": {},
   "outputs": [],
   "source": [
    "import os\n",
    "import re\n",
    "import copy\n",
    "import pandas as pd"
   ]
  },
  {
   "cell_type": "code",
   "execution_count": 117,
   "metadata": {},
   "outputs": [],
   "source": [
    "emon_data='./simd'"
   ]
  },
  {
   "cell_type": "code",
   "execution_count": 118,
   "metadata": {},
   "outputs": [],
   "source": [
    "def parse_file_name(file_name):\n",
    "    \"\"\"\n",
    "    type: eg: simd\n",
    "    flag: eg: avx\n",
    "    core: eg: 28\n",
    "    freq: eg: 3.0Ghz\n",
    "    parse file's name and return flog, core and so on values\n",
    "    support\n",
    "    \"\"\"\n",
    "    file_info={}\n",
    "    if re.search(\"^busy\", file_name):\n",
    "        pass\n",
    "    if re.search(\"^simd\", file_name):\n",
    "        file_gather = file_name.split('_')\n",
    "        file_info['type'] = file_gather[0]\n",
    "        file_info['flag'] = file_gather[1]\n",
    "        file_info['core'] = file_gather[2]\n",
    "        file_info['freq'] = re.findall('\\d+\\.\\d+Ghz',file_gather[3])[0]\n",
    "    return file_info"
   ]
  },
  {
   "cell_type": "code",
   "execution_count": 119,
   "metadata": {},
   "outputs": [],
   "source": [
    "def get_emon_data(file_path, sheet_name, sample, select_col):\n",
    "    dict_s = {}\n",
    "    df = pd.read_excel(file_path, index_col=0, header=0, sheet_name=sheet_name)\n",
    "    # for sample_name in sample:\n",
    "    #     sample_dict[sample_name] = df.loc[sample_name, select_col]\n",
    "    sample_value = df.loc[sample, select_col]\n",
    "    dict_s[sample] = sample_value\n",
    "    return sample_value"
   ]
  },
  {
   "cell_type": "code",
   "execution_count": 120,
   "metadata": {},
   "outputs": [
    {
     "name": "stdout",
     "output_type": "stream",
     "text": [
      "Empty DataFrame\n",
      "Columns: []\n",
      "Index: []\n"
     ]
    }
   ],
   "source": [
    "sample_list=[\"metric_CPU operating frequency (in GHz)\", \"metric_uncore frequency GHz\", 'metric_package power (watts)']\n",
    "colums = copy.deepcopy(sample_list)\n",
    "colums.insert(0, \"core\")\n",
    "df = pd.DataFrame()\n",
    "print(df)"
   ]
  },
  {
   "cell_type": "code",
   "execution_count": 121,
   "metadata": {},
   "outputs": [
    {
     "name": "stdout",
     "output_type": "stream",
     "text": [
      "3.563774028566584\n"
     ]
    },
    {
     "data": {
      "text/html": [
       "<div>\n",
       "<style scoped>\n",
       "    .dataframe tbody tr th:only-of-type {\n",
       "        vertical-align: middle;\n",
       "    }\n",
       "\n",
       "    .dataframe tbody tr th {\n",
       "        vertical-align: top;\n",
       "    }\n",
       "\n",
       "    .dataframe thead th {\n",
       "        text-align: right;\n",
       "    }\n",
       "</style>\n",
       "<table border=\"1\" class=\"dataframe\">\n",
       "  <thead>\n",
       "    <tr style=\"text-align: right;\">\n",
       "      <th></th>\n",
       "      <th>metric_CPU operating frequency (in GHz)</th>\n",
       "      <th>metric_uncore frequency GHz</th>\n",
       "      <th>metric_package power (watts)</th>\n",
       "      <th>metric_CPU operating frequency (in GHz)</th>\n",
       "      <th>metric_uncore frequency GHz</th>\n",
       "      <th>metric_package power (watts)</th>\n",
       "    </tr>\n",
       "  </thead>\n",
       "  <tbody>\n",
       "    <tr>\n",
       "      <th>0</th>\n",
       "      <td>3.563774</td>\n",
       "      <td>2.500523</td>\n",
       "      <td>308.165449</td>\n",
       "      <td>2.600326</td>\n",
       "      <td>2.500533</td>\n",
       "      <td>251.596658</td>\n",
       "    </tr>\n",
       "  </tbody>\n",
       "</table>\n",
       "</div>"
      ],
      "text/plain": [
       "   metric_CPU operating frequency (in GHz)  metric_uncore frequency GHz  \\\n",
       "0                                 3.563774                     2.500523   \n",
       "\n",
       "   metric_package power (watts)  metric_CPU operating frequency (in GHz)  \\\n",
       "0                    308.165449                                 2.600326   \n",
       "\n",
       "   metric_uncore frequency GHz  metric_package power (watts)  \n",
       "0                     2.500533                    251.596658  "
      ]
     },
     "execution_count": 121,
     "metadata": {},
     "output_type": "execute_result"
    }
   ],
   "source": [
    "df = pd.DataFrame()\n",
    "df\n",
    "d = {'metric_CPU operating frequency (in GHz)': 3.563774028566584, 'metric_uncore frequency GHz': 2.500522503931958, 'metric_package power (watts)': 308.1654489784661}\n",
    "d1 = {'metric_CPU operating frequency (in GHz)': 2.600325541116733, 'metric_uncore frequency GHz': 2.500533020318125, 'metric_package power (watts)': 251.5966576987806}\n",
    "print(d['metric_CPU operating frequency (in GHz)'])\n",
    "df.insert(loc=0, column='metric_CPU operating frequency (in GHz)', allow_duplicates=True, value=[d['metric_CPU operating frequency (in GHz)']])\n",
    "df.insert(loc=1, column='metric_uncore frequency GHz', allow_duplicates=True, value=[d['metric_uncore frequency GHz']])\n",
    "df.insert(loc=2, column='metric_package power (watts)', allow_duplicates=True, value=[d['metric_package power (watts)']])\n",
    "df.insert(loc=3, column='metric_CPU operating frequency (in GHz)', allow_duplicates=True, value=[d1['metric_CPU operating frequency (in GHz)']])\n",
    "df.insert(loc=4, column='metric_uncore frequency GHz', allow_duplicates=True, value=[d1['metric_uncore frequency GHz']])\n",
    "df.insert(loc=5, column='metric_package power (watts)', allow_duplicates=True, value=[d1['metric_package power (watts)']])\n",
    "df"
   ]
  },
  {
   "cell_type": "code",
   "execution_count": null,
   "metadata": {},
   "outputs": [],
   "source": [
    "\n",
    "def save_values(dict_va):\n",
    "    res = {}\n",
    "    for d in dict_va:\n",
    "        print(d)\n",
    "        for k, v in d.items():\n",
    "            res[k] = res.get(k, []) + v\n",
    "    print(res)\n",
    "\n",
    "import itertools\n",
    "core_dict = {}\n",
    "core_l = []\n",
    "for file_name in os.listdir(emon_data):\n",
    "    file_info = parse_file_name(file_name)\n",
    "    # print(\"waimian\", file_info['core'])\n",
    "    samplev_list = []\n",
    "    if os.path.isfile(os.path.join(emon_data,file_name)):\n",
    "        file_path = os.path.join(emon_data, file_name) \n",
    "        for sample in sample_list: \n",
    "            sample_value = get_emon_data(file_path, \"socket view\", sample, \"socket 0\")\n",
    "            samplev_list.append(sample_value)\n",
    "    # core_dict[file_info['core']]=samplev_list\n",
    "    core_l.append({file_info['core']: samplev_list})\n",
    "\n",
    "# print(core_l)\n",
    "save_values(core_l)\n",
    " \n"
   ]
  },
  {
   "cell_type": "code",
   "execution_count": null,
   "metadata": {},
   "outputs": [],
   "source": [
    "d = {'metric_CPU': [7.126, 1.376, 0.045, 6.898, 1.32], 'metric_uncore':[7.121, 1.376, 0.045, 6.898, 1.32], 'power': [7.122, 1.376, 0.045, 6.898, 1.32]}\n",
    "d1 = {'metric_CPU': [7.126, 1.376, 0.045, 6.898, 1.32], 'metric_uncore':[7.121, 1.376, 0.045, 6.898, 1.32], 'power': [7.122, 1.376, 0.045, 6.898, 1.32]}\n",
    "def createSeries (series_list, name):\n",
    "  # create a series\n",
    "  series_list = pd.Series(series_list, name=name)\n",
    "  return series_list\n",
    "\n",
    "cpu = createSeries(d['metric_CPU'], 'cpu')\n",
    "uncore = createSeries(d['metric_uncore'], 'uncore')\n",
    "power = createSeries(d['power'], 'power')\n",
    "\n",
    "cpu1 = createSeries(d1['metric_CPU'], 'cpu')\n",
    "# uncore = createSeries(d['metric_uncore'], 'uncore')\n",
    "# power = createSeries(d['power'], 'power')\n",
    "\n",
    "# data = {\n",
    "#     'metric_CPU': cpu, \n",
    "#     'metric_uncore':uncore, \n",
    "#     'power': power\n",
    "    \n",
    "# }\n",
    "df = pd.DataFrame(cpu)\n",
    "df = df.join(uncore)\n",
    "df = df.join(power)\n",
    "# df = df.join(power)\n",
    "df = df.join(cpu1)\n",
    "print(df)\n",
    "\n"
   ]
  },
  {
   "cell_type": "code",
   "execution_count": 147,
   "metadata": {},
   "outputs": [
    {
     "ename": "ValueError",
     "evalue": "Length of names must match number of levels in MultiIndex.",
     "output_type": "error",
     "traceback": [
      "\u001b[0;31m---------------------------------------------------------------------------\u001b[0m",
      "\u001b[0;31mValueError\u001b[0m                                Traceback (most recent call last)",
      "\u001b[1;32m/home/yangkun/lab/auto-opt/utils/parse.ipynb Cell 9\u001b[0m line \u001b[0;36m5\n\u001b[1;32m      <a href='vscode-notebook-cell://ssh-remote%2B10.145.181.55/home/yangkun/lab/auto-opt/utils/parse.ipynb#X11sdnNjb2RlLXJlbW90ZQ%3D%3D?line=0'>1</a>\u001b[0m \u001b[39mimport\u001b[39;00m \u001b[39mpandas\u001b[39;00m \u001b[39mas\u001b[39;00m \u001b[39mpd\u001b[39;00m\n\u001b[1;32m      <a href='vscode-notebook-cell://ssh-remote%2B10.145.181.55/home/yangkun/lab/auto-opt/utils/parse.ipynb#X11sdnNjb2RlLXJlbW90ZQ%3D%3D?line=1'>2</a>\u001b[0m d \u001b[39m=\u001b[39m [[\u001b[39m3.563774028566584\u001b[39m, \u001b[39m2.500522503931958\u001b[39m, \u001b[39m308.1654489784661\u001b[39m, \u001b[39m2.800359986746412\u001b[39m, \u001b[39m2.500519349528086\u001b[39m, \u001b[39m258.656305860304\u001b[39m, \u001b[39m2.999870593690765\u001b[39m, \u001b[39m2.50053217797147\u001b[39m, \u001b[39m271.8242353628904\u001b[39m, \u001b[39m2.399633352278043\u001b[39m, \u001b[39m2.500574073339675\u001b[39m, \u001b[39m243.4543012113535\u001b[39m, \u001b[39m3.199361603508553\u001b[39m, \u001b[39m2.500524956349115\u001b[39m, \u001b[39m285.6260481186529\u001b[39m, \u001b[39m2.600325541116733\u001b[39m, \u001b[39m2.500533020318125\u001b[39m, \u001b[39m251.5966576987806\u001b[39m, \u001b[39m3.39892686094062\u001b[39m, \u001b[39m2.500520788841056\u001b[39m, \u001b[39m297.6933163223135\u001b[39m], \n\u001b[1;32m      <a href='vscode-notebook-cell://ssh-remote%2B10.145.181.55/home/yangkun/lab/auto-opt/utils/parse.ipynb#X11sdnNjb2RlLXJlbW90ZQ%3D%3D?line=2'>3</a>\u001b[0m [\u001b[39m2.600357785212167\u001b[39m, \u001b[39m2.500547864404328\u001b[39m, \u001b[39m238.5959050096536\u001b[39m, \u001b[39m2.800318908231643\u001b[39m, \u001b[39m2.5005185249558\u001b[39m, \u001b[39m247.8272426098175\u001b[39m, \u001b[39m2.999851241501147\u001b[39m, \u001b[39m2.500553189758415\u001b[39m, \u001b[39m260.6760887016579\u001b[39m, \u001b[39m3.199441403484256\u001b[39m, \u001b[39m2.500488412515004\u001b[39m, \u001b[39m271.6733184425212\u001b[39m, \u001b[39m3.793613186358308\u001b[39m, \u001b[39m2.50053078613892\u001b[39m, \u001b[39m309.8353265355871\u001b[39m, \u001b[39m3.398990470245218\u001b[39m, \u001b[39m2.500537129471686\u001b[39m, \u001b[39m281.3724365722145\u001b[39m, \u001b[39m3.598373291556128\u001b[39m, \u001b[39m2.500499478399559\u001b[39m, \u001b[39m294.6542928158037\u001b[39m, \u001b[39m2.399756810638797\u001b[39m, \u001b[39m2.500732198340199\u001b[39m, \u001b[39m233.122849786795\u001b[39m], \n\u001b[1;32m      <a href='vscode-notebook-cell://ssh-remote%2B10.145.181.55/home/yangkun/lab/auto-opt/utils/parse.ipynb#X11sdnNjb2RlLXJlbW90ZQ%3D%3D?line=3'>4</a>\u001b[0m [\u001b[39m2.999972664382855\u001b[39m, \u001b[39m2.500525513333936\u001b[39m, \u001b[39m248.210062111839\u001b[39m, \u001b[39m2.600366955099997\u001b[39m, \u001b[39m2.500562369631353\u001b[39m, \u001b[39m232.6176974022659\u001b[39m, \u001b[39m3.598395123871315\u001b[39m, \u001b[39m2.500507697956521\u001b[39m, \u001b[39m273.4816942945404\u001b[39m, \u001b[39m2.399949102692382\u001b[39m, \u001b[39m2.500560984832081\u001b[39m, \u001b[39m224.1047407991609\u001b[39m, \u001b[39m2.800298029639791\u001b[39m, \u001b[39m2.500556676380458\u001b[39m, \u001b[39m236.9749973627837\u001b[39m, \u001b[39m3.19941068383409\u001b[39m, \u001b[39m2.50052130407011\u001b[39m, \u001b[39m256.8122189813888\u001b[39m, \u001b[39m3.792759694112529\u001b[39m, \u001b[39m2.500538106315326\u001b[39m, \u001b[39m287.1141909218168\u001b[39m, \u001b[39m3.399022190610756\u001b[39m, \u001b[39m2.500528907200028\u001b[39m, \u001b[39m266.5085325605923\u001b[39m]]\n\u001b[0;32m----> <a href='vscode-notebook-cell://ssh-remote%2B10.145.181.55/home/yangkun/lab/auto-opt/utils/parse.ipynb#X11sdnNjb2RlLXJlbW90ZQ%3D%3D?line=4'>5</a>\u001b[0m multi_index \u001b[39m=\u001b[39m pd\u001b[39m.\u001b[39;49mMultiIndex\u001b[39m.\u001b[39;49mfrom_tuples([(\u001b[39m\"\u001b[39;49m\u001b[39m4\u001b[39;49m\u001b[39m\"\u001b[39;49m, \u001b[39m\"\u001b[39;49m\u001b[39m8\u001b[39;49m\u001b[39m\"\u001b[39;49m, \u001b[39m\"\u001b[39;49m\u001b[39m12\u001b[39;49m\u001b[39m\"\u001b[39;49m),\n\u001b[1;32m      <a href='vscode-notebook-cell://ssh-remote%2B10.145.181.55/home/yangkun/lab/auto-opt/utils/parse.ipynb#X11sdnNjb2RlLXJlbW90ZQ%3D%3D?line=5'>6</a>\u001b[0m                                        (\u001b[39m\"\u001b[39;49m\u001b[39mr1\u001b[39;49m\u001b[39m\"\u001b[39;49m, \u001b[39m\"\u001b[39;49m\u001b[39mrB\u001b[39;49m\u001b[39m\"\u001b[39;49m, \u001b[39m\"\u001b[39;49m\u001b[39m12\u001b[39;49m\u001b[39m\"\u001b[39;49m)],\n\u001b[1;32m      <a href='vscode-notebook-cell://ssh-remote%2B10.145.181.55/home/yangkun/lab/auto-opt/utils/parse.ipynb#X11sdnNjb2RlLXJlbW90ZQ%3D%3D?line=6'>7</a>\u001b[0m                                        names\u001b[39m=\u001b[39;49m[\u001b[39m'\u001b[39;49m\u001b[39mCourses\u001b[39;49m\u001b[39m'\u001b[39;49m,\u001b[39m'\u001b[39;49m\u001b[39mFee\u001b[39;49m\u001b[39m'\u001b[39;49m])\n\u001b[1;32m      <a href='vscode-notebook-cell://ssh-remote%2B10.145.181.55/home/yangkun/lab/auto-opt/utils/parse.ipynb#X11sdnNjb2RlLXJlbW90ZQ%3D%3D?line=8'>9</a>\u001b[0m cols \u001b[39m=\u001b[39m pd\u001b[39m.\u001b[39mMultiIndex\u001b[39m.\u001b[39mfrom_tuples([(\u001b[39m\"\u001b[39m\u001b[39m2.4\u001b[39m\u001b[39m\"\u001b[39m, \u001b[39m\"\u001b[39m\u001b[39mmetric_CPU\u001b[39m\u001b[39m\"\u001b[39m), \n\u001b[1;32m     <a href='vscode-notebook-cell://ssh-remote%2B10.145.181.55/home/yangkun/lab/auto-opt/utils/parse.ipynb#X11sdnNjb2RlLXJlbW90ZQ%3D%3D?line=9'>10</a>\u001b[0m                                   (\u001b[39m\"\u001b[39m\u001b[39m2.4\u001b[39m\u001b[39m\"\u001b[39m, \u001b[39m\"\u001b[39m\u001b[39mmetric_uncore\u001b[39m\u001b[39m\"\u001b[39m), \n\u001b[1;32m     <a href='vscode-notebook-cell://ssh-remote%2B10.145.181.55/home/yangkun/lab/auto-opt/utils/parse.ipynb#X11sdnNjb2RlLXJlbW90ZQ%3D%3D?line=10'>11</a>\u001b[0m                                   (\u001b[39m\"\u001b[39m\u001b[39m2.4\u001b[39m\u001b[39m\"\u001b[39m, \u001b[39m\"\u001b[39m\u001b[39mpower\u001b[39m\u001b[39m\"\u001b[39m), \n\u001b[0;32m   (...)\u001b[0m\n\u001b[1;32m     <a href='vscode-notebook-cell://ssh-remote%2B10.145.181.55/home/yangkun/lab/auto-opt/utils/parse.ipynb#X11sdnNjb2RlLXJlbW90ZQ%3D%3D?line=30'>31</a>\u001b[0m                                   (\u001b[39m\"\u001b[39m\u001b[39m3.8\u001b[39m\u001b[39m\"\u001b[39m, \u001b[39m\"\u001b[39m\u001b[39mmetric_uncore\u001b[39m\u001b[39m\"\u001b[39m), \n\u001b[1;32m     <a href='vscode-notebook-cell://ssh-remote%2B10.145.181.55/home/yangkun/lab/auto-opt/utils/parse.ipynb#X11sdnNjb2RlLXJlbW90ZQ%3D%3D?line=31'>32</a>\u001b[0m                                   (\u001b[39m\"\u001b[39m\u001b[39m3.8\u001b[39m\u001b[39m\"\u001b[39m, \u001b[39m\"\u001b[39m\u001b[39mpower\u001b[39m\u001b[39m\"\u001b[39m),])\n\u001b[1;32m     <a href='vscode-notebook-cell://ssh-remote%2B10.145.181.55/home/yangkun/lab/auto-opt/utils/parse.ipynb#X11sdnNjb2RlLXJlbW90ZQ%3D%3D?line=33'>34</a>\u001b[0m df \u001b[39m=\u001b[39m pd\u001b[39m.\u001b[39mDataFrame(d, columns\u001b[39m=\u001b[39mcols, index\u001b[39m=\u001b[39mmulti_index)\n",
      "File \u001b[0;32m~/lab/autorun/lib/python3.10/site-packages/pandas/core/indexes/multi.py:220\u001b[0m, in \u001b[0;36mnames_compat.<locals>.new_meth\u001b[0;34m(self_or_cls, *args, **kwargs)\u001b[0m\n\u001b[1;32m    217\u001b[0m \u001b[39mif\u001b[39;00m \u001b[39m\"\u001b[39m\u001b[39mname\u001b[39m\u001b[39m\"\u001b[39m \u001b[39min\u001b[39;00m kwargs:\n\u001b[1;32m    218\u001b[0m     kwargs[\u001b[39m\"\u001b[39m\u001b[39mnames\u001b[39m\u001b[39m\"\u001b[39m] \u001b[39m=\u001b[39m kwargs\u001b[39m.\u001b[39mpop(\u001b[39m\"\u001b[39m\u001b[39mname\u001b[39m\u001b[39m\"\u001b[39m)\n\u001b[0;32m--> 220\u001b[0m \u001b[39mreturn\u001b[39;00m meth(self_or_cls, \u001b[39m*\u001b[39;49margs, \u001b[39m*\u001b[39;49m\u001b[39m*\u001b[39;49mkwargs)\n",
      "File \u001b[0;32m~/lab/autorun/lib/python3.10/site-packages/pandas/core/indexes/multi.py:622\u001b[0m, in \u001b[0;36mMultiIndex.from_tuples\u001b[0;34m(cls, tuples, sortorder, names)\u001b[0m\n\u001b[1;32m    619\u001b[0m     arrs \u001b[39m=\u001b[39m \u001b[39mzip\u001b[39m(\u001b[39m*\u001b[39mtuples)\n\u001b[1;32m    620\u001b[0m     arrays \u001b[39m=\u001b[39m cast(\u001b[39mlist\u001b[39m[Sequence[Hashable]], arrs)\n\u001b[0;32m--> 622\u001b[0m \u001b[39mreturn\u001b[39;00m \u001b[39mcls\u001b[39;49m\u001b[39m.\u001b[39;49mfrom_arrays(arrays, sortorder\u001b[39m=\u001b[39;49msortorder, names\u001b[39m=\u001b[39;49mnames)\n",
      "File \u001b[0;32m~/lab/autorun/lib/python3.10/site-packages/pandas/core/indexes/multi.py:535\u001b[0m, in \u001b[0;36mMultiIndex.from_arrays\u001b[0;34m(cls, arrays, sortorder, names)\u001b[0m\n\u001b[1;32m    532\u001b[0m \u001b[39mif\u001b[39;00m names \u001b[39mis\u001b[39;00m lib\u001b[39m.\u001b[39mno_default:\n\u001b[1;32m    533\u001b[0m     names \u001b[39m=\u001b[39m [\u001b[39mgetattr\u001b[39m(arr, \u001b[39m\"\u001b[39m\u001b[39mname\u001b[39m\u001b[39m\"\u001b[39m, \u001b[39mNone\u001b[39;00m) \u001b[39mfor\u001b[39;00m arr \u001b[39min\u001b[39;00m arrays]\n\u001b[0;32m--> 535\u001b[0m \u001b[39mreturn\u001b[39;00m \u001b[39mcls\u001b[39;49m(\n\u001b[1;32m    536\u001b[0m     levels\u001b[39m=\u001b[39;49mlevels,\n\u001b[1;32m    537\u001b[0m     codes\u001b[39m=\u001b[39;49mcodes,\n\u001b[1;32m    538\u001b[0m     sortorder\u001b[39m=\u001b[39;49msortorder,\n\u001b[1;32m    539\u001b[0m     names\u001b[39m=\u001b[39;49mnames,\n\u001b[1;32m    540\u001b[0m     verify_integrity\u001b[39m=\u001b[39;49m\u001b[39mFalse\u001b[39;49;00m,\n\u001b[1;32m    541\u001b[0m )\n",
      "File \u001b[0;32m~/lab/autorun/lib/python3.10/site-packages/pandas/core/indexes/multi.py:354\u001b[0m, in \u001b[0;36mMultiIndex.__new__\u001b[0;34m(cls, levels, codes, sortorder, names, dtype, copy, name, verify_integrity)\u001b[0m\n\u001b[1;32m    351\u001b[0m result\u001b[39m.\u001b[39m_names \u001b[39m=\u001b[39m [\u001b[39mNone\u001b[39;00m] \u001b[39m*\u001b[39m \u001b[39mlen\u001b[39m(levels)\n\u001b[1;32m    352\u001b[0m \u001b[39mif\u001b[39;00m names \u001b[39mis\u001b[39;00m \u001b[39mnot\u001b[39;00m \u001b[39mNone\u001b[39;00m:\n\u001b[1;32m    353\u001b[0m     \u001b[39m# handles name validation\u001b[39;00m\n\u001b[0;32m--> 354\u001b[0m     result\u001b[39m.\u001b[39;49m_set_names(names)\n\u001b[1;32m    356\u001b[0m \u001b[39mif\u001b[39;00m sortorder \u001b[39mis\u001b[39;00m \u001b[39mnot\u001b[39;00m \u001b[39mNone\u001b[39;00m:\n\u001b[1;32m    357\u001b[0m     result\u001b[39m.\u001b[39msortorder \u001b[39m=\u001b[39m \u001b[39mint\u001b[39m(sortorder)\n",
      "File \u001b[0;32m~/lab/autorun/lib/python3.10/site-packages/pandas/core/indexes/multi.py:1487\u001b[0m, in \u001b[0;36mMultiIndex._set_names\u001b[0;34m(self, names, level, validate)\u001b[0m\n\u001b[1;32m   1485\u001b[0m         \u001b[39mraise\u001b[39;00m \u001b[39mValueError\u001b[39;00m(\u001b[39m\"\u001b[39m\u001b[39mLength of names must match length of level.\u001b[39m\u001b[39m\"\u001b[39m)\n\u001b[1;32m   1486\u001b[0m     \u001b[39mif\u001b[39;00m level \u001b[39mis\u001b[39;00m \u001b[39mNone\u001b[39;00m \u001b[39mand\u001b[39;00m \u001b[39mlen\u001b[39m(names) \u001b[39m!=\u001b[39m \u001b[39mself\u001b[39m\u001b[39m.\u001b[39mnlevels:\n\u001b[0;32m-> 1487\u001b[0m         \u001b[39mraise\u001b[39;00m \u001b[39mValueError\u001b[39;00m(\n\u001b[1;32m   1488\u001b[0m             \u001b[39m\"\u001b[39m\u001b[39mLength of names must match number of levels in MultiIndex.\u001b[39m\u001b[39m\"\u001b[39m\n\u001b[1;32m   1489\u001b[0m         )\n\u001b[1;32m   1491\u001b[0m \u001b[39mif\u001b[39;00m level \u001b[39mis\u001b[39;00m \u001b[39mNone\u001b[39;00m:\n\u001b[1;32m   1492\u001b[0m     level \u001b[39m=\u001b[39m \u001b[39mrange\u001b[39m(\u001b[39mself\u001b[39m\u001b[39m.\u001b[39mnlevels)\n",
      "\u001b[0;31mValueError\u001b[0m: Length of names must match number of levels in MultiIndex."
     ]
    }
   ],
   "source": [
    "import pandas as pd\n",
    "d = [[3.563774028566584, 2.500522503931958, 308.1654489784661, 2.800359986746412, 2.500519349528086, 258.656305860304, 2.999870593690765, 2.50053217797147, 271.8242353628904, 2.399633352278043, 2.500574073339675, 243.4543012113535, 3.199361603508553, 2.500524956349115, 285.6260481186529, 2.600325541116733, 2.500533020318125, 251.5966576987806, 3.39892686094062, 2.500520788841056, 297.6933163223135], \n",
    "[2.600357785212167, 2.500547864404328, 238.5959050096536, 2.800318908231643, 2.5005185249558, 247.8272426098175, 2.999851241501147, 2.500553189758415, 260.6760887016579, 3.199441403484256, 2.500488412515004, 271.6733184425212, 3.793613186358308, 2.50053078613892, 309.8353265355871, 3.398990470245218, 2.500537129471686, 281.3724365722145, 3.598373291556128, 2.500499478399559, 294.6542928158037, 2.399756810638797, 2.500732198340199, 233.122849786795], \n",
    "[2.999972664382855, 2.500525513333936, 248.210062111839, 2.600366955099997, 2.500562369631353, 232.6176974022659, 3.598395123871315, 2.500507697956521, 273.4816942945404, 2.399949102692382, 2.500560984832081, 224.1047407991609, 2.800298029639791, 2.500556676380458, 236.9749973627837, 3.19941068383409, 2.50052130407011, 256.8122189813888, 3.792759694112529, 2.500538106315326, 287.1141909218168, 3.399022190610756, 2.500528907200028, 266.5085325605923]]\n",
    "multi_index = pd.MultiIndex.from_tuples([(\"4\", \"8\", \"12\"),\n",
    "                                       (\"r1\", \"rB\", \"12\")],\n",
    "                                       names=['Courses','Fee'])\n",
    "\n",
    "cols = pd.MultiIndex.from_tuples([(\"2.4\", \"metric_CPU\"), \n",
    "                                  (\"2.4\", \"metric_uncore\"), \n",
    "                                  (\"2.4\", \"power\"), \n",
    "                                  (\"2.6\", \"metric_CPU\"), \n",
    "                                  (\"2.6\", \"metric_uncore\"), \n",
    "                                  (\"2.6\", \"power\"),\n",
    "                                  (\"2.8\", \"metric_CPU\"), \n",
    "                                  (\"2.8\", \"metric_uncore\"), \n",
    "                                  (\"2.8\", \"power\"),\n",
    "                                  (\"3\", \"metric_CPU\"), \n",
    "                                  (\"3\", \"metric_uncore\"), \n",
    "                                  (\"3\", \"power\"),\n",
    "                                  (\"3.2\", \"metric_CPU\"), \n",
    "                                  (\"3.2\", \"metric_uncore\"), \n",
    "                                  (\"3.2\", \"power\"),\n",
    "                                  (\"3.4\", \"metric_CPU\"), \n",
    "                                  (\"3.4\", \"metric_uncore\"), \n",
    "                                  (\"3.4\", \"power\"),\n",
    "                                  (\"3.6\", \"metric_CPU\"), \n",
    "                                  (\"3.6\", \"metric_uncore\"), \n",
    "                                  (\"3.6\", \"power\"),\n",
    "                                  (\"3.8\", \"metric_CPU\"), \n",
    "                                  (\"3.8\", \"metric_uncore\"), \n",
    "                                  (\"3.8\", \"power\"),])\n",
    "\n",
    "df = pd.DataFrame(d, columns=cols, index=multi_index)\n",
    "print(df)\n",
    "print(df.to_excel('t.xlsx'))\n"
   ]
  },
  {
   "cell_type": "code",
   "execution_count": null,
   "metadata": {},
   "outputs": [
    {
     "name": "stdout",
     "output_type": "stream",
     "text": [
      "{'20': [2.800359986746412, 2.500519349528086, 258.656305860304, 258.656305860304]}\n"
     ]
    }
   ],
   "source": [
    "dict_test = {'20': [2.800359986746412, 2.500519349528086, 258.656305860304]}\n",
    "\n",
    "dict_test['20'].append(258.656305860304)\n",
    "\n",
    "print(dict_test)"
   ]
  }
 ],
 "metadata": {
  "kernelspec": {
   "display_name": "autorun",
   "language": "python",
   "name": "python3"
  },
  "language_info": {
   "codemirror_mode": {
    "name": "ipython",
    "version": 3
   },
   "file_extension": ".py",
   "mimetype": "text/x-python",
   "name": "python",
   "nbconvert_exporter": "python",
   "pygments_lexer": "ipython3",
   "version": "3.10.12"
  }
 },
 "nbformat": 4,
 "nbformat_minor": 2
}
